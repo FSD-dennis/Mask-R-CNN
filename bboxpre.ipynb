{
 "cells": [
  {
   "cell_type": "code",
   "execution_count": 1,
   "metadata": {},
   "outputs": [
    {
     "name": "stderr",
     "output_type": "stream",
     "text": [
      "Cleaning directory .\n",
      "Total 2 files, 1 directories removed.\n"
     ]
    }
   ],
   "source": [
    "%reset -f\n",
    "!pyclean ."
   ]
  },
  {
   "cell_type": "code",
   "execution_count": 2,
   "metadata": {},
   "outputs": [],
   "source": [
    "from utils import *\n",
    "%matplotlib inline"
   ]
  },
  {
   "cell_type": "code",
   "execution_count": 3,
   "metadata": {},
   "outputs": [],
   "source": [
    "no_bg_meta = pd.read_csv(os.path.join(DATA_DIRECTORY,\"no_background\",\"no_background.csv\"),index_col=\"image_id\").sort_index()\n",
    "spacecraft_image = [os.path.join(DATA_DIRECTORY,\"no_background\", \"images\", i) + \".png\" for i in no_bg_meta.index][:40]\n",
    "spacecraft_bbox = [[k[\"xmin\"], k[\"ymin\"], k[\"xmax\"], k[\"ymax\"]] for i,k in no_bg_meta.iterrows()][:40]\n",
    "spacecraft_classification = [k[\"spacecraft_id\"]for i,k in no_bg_meta.iterrows()]\n",
    "spacecraft_mask = [os.path.join(DATA_DIRECTORY,\"no_background\", \"images\", i) + \".png\" for i in no_bg_meta.index]"
   ]
  },
  {
   "cell_type": "code",
   "execution_count": 4,
   "metadata": {},
   "outputs": [
    {
     "name": "stdout",
     "output_type": "stream",
     "text": [
      "Model: \"sequential\"\n",
      "_________________________________________________________________\n",
      " Layer (type)                Output Shape              Param #   \n",
      "=================================================================\n",
      " conv2d (Conv2D)             (None, 224, 224, 32)      207392    \n",
      "                                                                 \n",
      " conv2d_1 (Conv2D)           (None, 224, 224, 16)      4624      \n",
      "                                                                 \n",
      " conv2d_2 (Conv2D)           (None, 224, 224, 8)       1160      \n",
      "                                                                 \n",
      " flatten (Flatten)           (None, 401408)            0         \n",
      "                                                                 \n",
      " dense (Dense)               (None, 256)               102760704 \n",
      "                                                                 \n",
      " dense_1 (Dense)             (None, 128)               32896     \n",
      "                                                                 \n",
      " dense_2 (Dense)             (None, 4)                 516       \n",
      "                                                                 \n",
      "=================================================================\n",
      "Total params: 103,007,292\n",
      "Trainable params: 103,007,292\n",
      "Non-trainable params: 0\n",
      "_________________________________________________________________\n"
     ]
    }
   ],
   "source": [
    "model = create_bbox_model()\n",
    "model.summary()"
   ]
  },
  {
   "cell_type": "code",
   "execution_count": 5,
   "metadata": {},
   "outputs": [],
   "source": [
    "dataset = bbox_fpn_datasets(spacecraft_image, spacecraft_bbox, batch_size=2)\n"
   ]
  },
  {
   "cell_type": "code",
   "execution_count": 6,
   "metadata": {},
   "outputs": [],
   "source": [
    "image_sample, bbox_sample = next(dataset.__iter__())"
   ]
  },
  {
   "cell_type": "code",
   "execution_count": 7,
   "metadata": {},
   "outputs": [
    {
     "data": {
      "text/plain": [
       "TensorShape([2, 224, 224, 720])"
      ]
     },
     "execution_count": 7,
     "metadata": {},
     "output_type": "execute_result"
    }
   ],
   "source": [
    "image_sample.shape"
   ]
  },
  {
   "cell_type": "code",
   "execution_count": 8,
   "metadata": {},
   "outputs": [
    {
     "data": {
      "text/plain": [
       "<tf.Tensor: shape=(2, 4), dtype=float64, numpy=\n",
       "array([[141.925  ,  67.8125 , 173.775  ,  94.28125],\n",
       "       [ 30.8    ,  17.0625 ,  73.15   ,  81.8125 ]])>"
      ]
     },
     "execution_count": 8,
     "metadata": {},
     "output_type": "execute_result"
    }
   ],
   "source": [
    "bbox_sample"
   ]
  },
  {
   "cell_type": "markdown",
   "metadata": {},
   "source": [
    "### train shape is correct"
   ]
  },
  {
   "cell_type": "code",
   "execution_count": 9,
   "metadata": {},
   "outputs": [],
   "source": [
    "model.compile(\n",
    "    optimizer='adam', \n",
    "    loss='mean_squared_error',\n",
    ")"
   ]
  },
  {
   "cell_type": "code",
   "execution_count": 11,
   "metadata": {},
   "outputs": [
    {
     "name": "stdout",
     "output_type": "stream",
     "text": [
      "10/10 [==============================] - 5s 146ms/step - loss: 15427.4248\n"
     ]
    },
    {
     "data": {
      "text/plain": [
       "<keras.callbacks.History at 0x2687a3ec6d0>"
      ]
     },
     "execution_count": 11,
     "metadata": {},
     "output_type": "execute_result"
    }
   ],
   "source": [
    "model.fit(dataset, epochs=1)"
   ]
  },
  {
   "cell_type": "markdown",
   "metadata": {},
   "source": [
    "### I only choose 40 images to check whether it works or not, if my GPU allow my to train many epochs and the full dataset lol. `it works at last`"
   ]
  }
 ],
 "metadata": {
  "kernelspec": {
   "display_name": "tfapi",
   "language": "python",
   "name": "python3"
  },
  "language_info": {
   "codemirror_mode": {
    "name": "ipython",
    "version": 3
   },
   "file_extension": ".py",
   "mimetype": "text/x-python",
   "name": "python",
   "nbconvert_exporter": "python",
   "pygments_lexer": "ipython3",
   "version": "3.8.19"
  }
 },
 "nbformat": 4,
 "nbformat_minor": 2
}
